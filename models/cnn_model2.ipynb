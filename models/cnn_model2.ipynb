{
  "nbformat": 4,
  "nbformat_minor": 0,
  "metadata": {
    "colab": {
      "name": "cnn model2 fcc",
      "provenance": [],
      "collapsed_sections": []
    },
    "kernelspec": {
      "name": "python3",
      "display_name": "Python 3"
    },
    "accelerator": "GPU"
  },
  "cells": [
    {
      "cell_type": "markdown",
      "metadata": {
        "id": "5FQpjWg4Ld6m",
        "colab_type": "text"
      },
      "source": [
        "## 1.  Connect google Drive.\n",
        "\n",
        "Once connected, we will be able to access the FER2013 dataset.   "
      ]
    },
    {
      "cell_type": "code",
      "metadata": {
        "id": "SyTEuhg7fR9P",
        "colab_type": "code",
        "outputId": "66d6319b-b640-4f35-bc9c-ebe57493a941",
        "colab": {
          "base_uri": "https://localhost:8080/",
          "height": 122
        }
      },
      "source": [
        "from google.colab import drive\n",
        "drive.mount('/content/gdrive')"
      ],
      "execution_count": 0,
      "outputs": [
        {
          "output_type": "stream",
          "text": [
            "Go to this URL in a browser: https://accounts.google.com/o/oauth2/auth?client_id=947318989803-6bn6qk8qdgf4n4g3pfee6491hc0brc4i.apps.googleusercontent.com&redirect_uri=urn%3aietf%3awg%3aoauth%3a2.0%3aoob&response_type=code&scope=email%20https%3a%2f%2fwww.googleapis.com%2fauth%2fdocs.test%20https%3a%2f%2fwww.googleapis.com%2fauth%2fdrive%20https%3a%2f%2fwww.googleapis.com%2fauth%2fdrive.photos.readonly%20https%3a%2f%2fwww.googleapis.com%2fauth%2fpeopleapi.readonly\n",
            "\n",
            "Enter your authorization code:\n",
            "··········\n",
            "Mounted at /content/gdrive\n"
          ],
          "name": "stdout"
        }
      ]
    },
    {
      "cell_type": "markdown",
      "metadata": {
        "id": "UQy7KUb6NBs-",
        "colab_type": "text"
      },
      "source": [
        "## 2. Import Libraries."
      ]
    },
    {
      "cell_type": "code",
      "metadata": {
        "id": "XRPQRtXGmm2W",
        "colab_type": "code",
        "outputId": "480eeb17-979c-4d4f-89e3-fc5fe66d9bca",
        "colab": {
          "base_uri": "https://localhost:8080/",
          "height": 80
        }
      },
      "source": [
        "%matplotlib inline\n",
        "import matplotlib.pyplot as plt\n",
        "\n",
        "import numpy as np\n",
        "from keras.utils import to_categorical\n",
        "from sklearn.model_selection import train_test_split\n",
        "import pandas as pd\n",
        "from keras.models import Sequential\n",
        "from keras.layers import Conv2D \n",
        "from keras.layers.normalization import BatchNormalization\n",
        "from keras.regularizers import l2\n",
        "from keras.layers import Activation\n",
        "from keras.layers import Dropout\n",
        "from keras.layers import MaxPooling2D \n",
        "from keras.layers import Flatten \n",
        "from keras.layers import Dense \n",
        "from keras import optimizers\n",
        "from keras.callbacks import ReduceLROnPlateau, EarlyStopping, TensorBoard, ModelCheckpoint\n",
        "from sklearn.metrics import accuracy_score"
      ],
      "execution_count": 0,
      "outputs": [
        {
          "output_type": "stream",
          "text": [
            "Using TensorFlow backend.\n"
          ],
          "name": "stderr"
        },
        {
          "output_type": "display_data",
          "data": {
            "text/html": [
              "<p style=\"color: red;\">\n",
              "The default version of TensorFlow in Colab will soon switch to TensorFlow 2.x.<br>\n",
              "We recommend you <a href=\"https://www.tensorflow.org/guide/migrate\" target=\"_blank\">upgrade</a> now \n",
              "or ensure your notebook will continue to use TensorFlow 1.x via the <code>%tensorflow_version 1.x</code> magic:\n",
              "<a href=\"https://colab.research.google.com/notebooks/tensorflow_version.ipynb\" target=\"_blank\">more info</a>.</p>\n"
            ],
            "text/plain": [
              "<IPython.core.display.HTML object>"
            ]
          },
          "metadata": {
            "tags": []
          }
        }
      ]
    },
    {
      "cell_type": "code",
      "metadata": {
        "id": "tORHhX5C94p7",
        "colab_type": "code",
        "outputId": "fbcf02a3-c16a-4403-a1d2-036efa613ecc",
        "colab": {
          "base_uri": "https://localhost:8080/",
          "height": 85
        }
      },
      "source": [
        "df=pd.read_csv('gdrive/My Drive/minor project/fer2013.csv')\n",
        "\n",
        "#print(df.info())\n",
        "print(df[\"Usage\"].value_counts())\n",
        "\n",
        "# print(df.head())\n",
        "x_train,y_train,x_test,y_test=[],[],[],[]\n",
        "\n",
        "for index, row in df.iterrows():\n",
        "    val=row['pixels'].split(\" \")\n",
        "    try:\n",
        "        if 'Training' in row['Usage']:\n",
        "           x_train.append(np.array(val,'float32'))\n",
        "           y_train.append(row['emotion'])\n",
        "        elif 'PublicTest' in row['Usage']:\n",
        "           x_test.append(np.array(val,'float32'))\n",
        "           y_test.append(row['emotion'])\n",
        "    except:\n",
        "        print(f\"error occured at index :{index} and row:{row}\")\n"
      ],
      "execution_count": 0,
      "outputs": [
        {
          "output_type": "stream",
          "text": [
            "Training       28709\n",
            "PublicTest      3589\n",
            "PrivateTest     3589\n",
            "Name: Usage, dtype: int64\n"
          ],
          "name": "stdout"
        }
      ]
    },
    {
      "cell_type": "code",
      "metadata": {
        "id": "ni184u-63U28",
        "colab_type": "code",
        "outputId": "f35ab360-3afa-4882-dc0c-45d5566692a6",
        "colab": {
          "base_uri": "https://localhost:8080/",
          "height": 136
        }
      },
      "source": [
        "print(x_train)\n"
      ],
      "execution_count": 0,
      "outputs": [
        {
          "output_type": "stream",
          "text": [
            "[[ 70.  80.  82. ... 106. 109.  82.]\n",
            " [151. 150. 147. ... 193. 183. 184.]\n",
            " [231. 212. 156. ...  88. 110. 152.]\n",
            " ...\n",
            " [ 74.  81.  87. ... 188. 187. 187.]\n",
            " [222. 227. 203. ... 136. 136. 134.]\n",
            " [195. 199. 205. ...   6.  15.  38.]]\n"
          ],
          "name": "stdout"
        }
      ]
    },
    {
      "cell_type": "code",
      "metadata": {
        "id": "dj0r-8CG-JhW",
        "colab_type": "code",
        "colab": {}
      },
      "source": [
        "labels=7\n",
        "from keras.utils import np_utils\n",
        "from keras.utils.np_utils import to_categorical\n",
        "x_train = np.array(x_train,'float32')\n",
        "y_train = np.array(y_train,'float32')\n",
        "x_test = np.array(x_test,'float32')\n",
        "y_test = np.array(y_test,'float32')\n",
        "\n",
        "y_train=np_utils.to_categorical(y_train, num_classes=labels)\n",
        "y_test=np_utils.to_categorical(y_test, num_classes=labels)\n",
        "\n",
        "\n",
        "x_train -=np.amin(x_train)\n",
        "\n",
        "x_train /= np.amax(x_train)-np.amin(x_train)\n",
        "\n",
        "\n",
        "x_test -=np.amin(x_test)\n",
        "\n",
        "x_test /= np.amax(x_test)-np.amin(x_test)\n",
        "\n",
        "\n",
        "x_train = x_train.reshape(x_train.shape[0], 48, 48, 1)\n",
        "\n",
        "x_test = x_test.reshape(x_test.shape[0], 48, 48, 1)"
      ],
      "execution_count": 0,
      "outputs": []
    },
    {
      "cell_type": "code",
      "metadata": {
        "id": "Et5AZG6d4odu",
        "colab_type": "code",
        "outputId": "0c7752f7-a0ca-4515-f033-8af9ca2186bd",
        "colab": {
          "base_uri": "https://localhost:8080/",
          "height": 1000
        }
      },
      "source": [
        "print(x_train)"
      ],
      "execution_count": 0,
      "outputs": [
        {
          "output_type": "stream",
          "text": [
            "[[[[0.27450982]\n",
            "   [0.3137255 ]\n",
            "   [0.32156864]\n",
            "   ...\n",
            "   [0.20392157]\n",
            "   [0.16862746]\n",
            "   [0.16078432]]\n",
            "\n",
            "  [[0.25490198]\n",
            "   [0.23921569]\n",
            "   [0.22745098]\n",
            "   ...\n",
            "   [0.21960784]\n",
            "   [0.20392157]\n",
            "   [0.17254902]]\n",
            "\n",
            "  [[0.19607843]\n",
            "   [0.16862746]\n",
            "   [0.21176471]\n",
            "   ...\n",
            "   [0.19215687]\n",
            "   [0.21960784]\n",
            "   [0.18431373]]\n",
            "\n",
            "  ...\n",
            "\n",
            "  [[0.35686275]\n",
            "   [0.25490198]\n",
            "   [0.16470589]\n",
            "   ...\n",
            "   [0.28235295]\n",
            "   [0.21960784]\n",
            "   [0.16862746]]\n",
            "\n",
            "  [[0.3019608 ]\n",
            "   [0.32156864]\n",
            "   [0.30980393]\n",
            "   ...\n",
            "   [0.4117647 ]\n",
            "   [0.27450982]\n",
            "   [0.18039216]]\n",
            "\n",
            "  [[0.3019608 ]\n",
            "   [0.28235295]\n",
            "   [0.32941177]\n",
            "   ...\n",
            "   [0.41568628]\n",
            "   [0.42745098]\n",
            "   [0.32156864]]]\n",
            "\n",
            "\n",
            " [[[0.5921569 ]\n",
            "   [0.5882353 ]\n",
            "   [0.5764706 ]\n",
            "   ...\n",
            "   [0.5058824 ]\n",
            "   [0.54901963]\n",
            "   [0.47058824]]\n",
            "\n",
            "  [[0.5921569 ]\n",
            "   [0.58431375]\n",
            "   [0.58431375]\n",
            "   ...\n",
            "   [0.47843137]\n",
            "   [0.5529412 ]\n",
            "   [0.5372549 ]]\n",
            "\n",
            "  [[0.5921569 ]\n",
            "   [0.5921569 ]\n",
            "   [0.6117647 ]\n",
            "   ...\n",
            "   [0.42745098]\n",
            "   [0.48235294]\n",
            "   [0.57254905]]\n",
            "\n",
            "  ...\n",
            "\n",
            "  [[0.7372549 ]\n",
            "   [0.7372549 ]\n",
            "   [0.4745098 ]\n",
            "   ...\n",
            "   [0.7254902 ]\n",
            "   [0.7254902 ]\n",
            "   [0.7294118 ]]\n",
            "\n",
            "  [[0.7372549 ]\n",
            "   [0.73333335]\n",
            "   [0.76862746]\n",
            "   ...\n",
            "   [0.7294118 ]\n",
            "   [0.7137255 ]\n",
            "   [0.73333335]]\n",
            "\n",
            "  [[0.7294118 ]\n",
            "   [0.72156864]\n",
            "   [0.7254902 ]\n",
            "   ...\n",
            "   [0.75686276]\n",
            "   [0.7176471 ]\n",
            "   [0.72156864]]]\n",
            "\n",
            "\n",
            " [[[0.90588236]\n",
            "   [0.83137256]\n",
            "   [0.6117647 ]\n",
            "   ...\n",
            "   [0.17254902]\n",
            "   [0.10588235]\n",
            "   [0.0627451 ]]\n",
            "\n",
            "  [[0.8980392 ]\n",
            "   [0.6862745 ]\n",
            "   [0.5803922 ]\n",
            "   ...\n",
            "   [0.10588235]\n",
            "   [0.13725491]\n",
            "   [0.10588235]]\n",
            "\n",
            "  [[0.8392157 ]\n",
            "   [0.6117647 ]\n",
            "   [0.6156863 ]\n",
            "   ...\n",
            "   [0.10980392]\n",
            "   [0.08627451]\n",
            "   [0.10980392]]\n",
            "\n",
            "  ...\n",
            "\n",
            "  [[0.94509804]\n",
            "   [0.9607843 ]\n",
            "   [0.98039216]\n",
            "   ...\n",
            "   [0.22352941]\n",
            "   [0.39607844]\n",
            "   [0.57254905]]\n",
            "\n",
            "  [[0.9647059 ]\n",
            "   [0.98039216]\n",
            "   [0.9882353 ]\n",
            "   ...\n",
            "   [0.30588236]\n",
            "   [0.4117647 ]\n",
            "   [0.63529414]]\n",
            "\n",
            "  [[0.98039216]\n",
            "   [0.9843137 ]\n",
            "   [0.98039216]\n",
            "   ...\n",
            "   [0.34509805]\n",
            "   [0.43137255]\n",
            "   [0.59607846]]]\n",
            "\n",
            "\n",
            " ...\n",
            "\n",
            "\n",
            " [[[0.2901961 ]\n",
            "   [0.31764707]\n",
            "   [0.34117648]\n",
            "   ...\n",
            "   [0.7411765 ]\n",
            "   [0.7490196 ]\n",
            "   [0.7529412 ]]\n",
            "\n",
            "  [[0.30588236]\n",
            "   [0.32156864]\n",
            "   [0.34901962]\n",
            "   ...\n",
            "   [0.7254902 ]\n",
            "   [0.7411765 ]\n",
            "   [0.75686276]]\n",
            "\n",
            "  [[0.31764707]\n",
            "   [0.3372549 ]\n",
            "   [0.36862746]\n",
            "   ...\n",
            "   [0.6901961 ]\n",
            "   [0.7254902 ]\n",
            "   [0.75686276]]\n",
            "\n",
            "  ...\n",
            "\n",
            "  [[0.3529412 ]\n",
            "   [0.3882353 ]\n",
            "   [0.44313726]\n",
            "   ...\n",
            "   [0.7529412 ]\n",
            "   [0.7647059 ]\n",
            "   [0.77254903]]\n",
            "\n",
            "  [[0.34509805]\n",
            "   [0.3764706 ]\n",
            "   [0.44705883]\n",
            "   ...\n",
            "   [0.7529412 ]\n",
            "   [0.7607843 ]\n",
            "   [0.7529412 ]]\n",
            "\n",
            "  [[0.34509805]\n",
            "   [0.38039216]\n",
            "   [0.43137255]\n",
            "   ...\n",
            "   [0.7372549 ]\n",
            "   [0.73333335]\n",
            "   [0.73333335]]]\n",
            "\n",
            "\n",
            " [[[0.87058824]\n",
            "   [0.8901961 ]\n",
            "   [0.79607844]\n",
            "   ...\n",
            "   [0.5411765 ]\n",
            "   [0.5176471 ]\n",
            "   [0.47843137]]\n",
            "\n",
            "  [[0.87058824]\n",
            "   [0.8862745 ]\n",
            "   [0.79607844]\n",
            "   ...\n",
            "   [0.5568628 ]\n",
            "   [0.53333336]\n",
            "   [0.49803922]]\n",
            "\n",
            "  [[0.87058824]\n",
            "   [0.88235295]\n",
            "   [0.80784315]\n",
            "   ...\n",
            "   [0.5764706 ]\n",
            "   [0.56078434]\n",
            "   [0.5058824 ]]\n",
            "\n",
            "  ...\n",
            "\n",
            "  [[0.7019608 ]\n",
            "   [0.7058824 ]\n",
            "   [0.69411767]\n",
            "   ...\n",
            "   [0.5529412 ]\n",
            "   [0.54509807]\n",
            "   [0.5372549 ]]\n",
            "\n",
            "  [[0.7372549 ]\n",
            "   [0.7137255 ]\n",
            "   [0.6901961 ]\n",
            "   ...\n",
            "   [0.5411765 ]\n",
            "   [0.53333336]\n",
            "   [0.5294118 ]]\n",
            "\n",
            "  [[0.70980394]\n",
            "   [0.65882355]\n",
            "   [0.60784316]\n",
            "   ...\n",
            "   [0.53333336]\n",
            "   [0.53333336]\n",
            "   [0.5254902 ]]]\n",
            "\n",
            "\n",
            " [[[0.7647059 ]\n",
            "   [0.78039217]\n",
            "   [0.8039216 ]\n",
            "   ...\n",
            "   [0.7137255 ]\n",
            "   [0.54901963]\n",
            "   [0.3019608 ]]\n",
            "\n",
            "  [[0.75686276]\n",
            "   [0.76862746]\n",
            "   [0.7921569 ]\n",
            "   ...\n",
            "   [0.77254903]\n",
            "   [0.64705884]\n",
            "   [0.4117647 ]]\n",
            "\n",
            "  [[0.7764706 ]\n",
            "   [0.78431374]\n",
            "   [0.8       ]\n",
            "   ...\n",
            "   [0.8156863 ]\n",
            "   [0.76862746]\n",
            "   [0.6156863 ]]\n",
            "\n",
            "  ...\n",
            "\n",
            "  [[0.22352941]\n",
            "   [0.28627452]\n",
            "   [0.32941177]\n",
            "   ...\n",
            "   [0.01176471]\n",
            "   [0.07843138]\n",
            "   [0.12941177]]\n",
            "\n",
            "  [[0.23921569]\n",
            "   [0.28627452]\n",
            "   [0.3764706 ]\n",
            "   ...\n",
            "   [0.02352941]\n",
            "   [0.07450981]\n",
            "   [0.16078432]]\n",
            "\n",
            "  [[0.23921569]\n",
            "   [0.30980393]\n",
            "   [0.37254903]\n",
            "   ...\n",
            "   [0.02352941]\n",
            "   [0.05882353]\n",
            "   [0.14901961]]]]\n"
          ],
          "name": "stdout"
        }
      ]
    },
    {
      "cell_type": "code",
      "metadata": {
        "id": "TpdOghEhxmsd",
        "colab_type": "code",
        "outputId": "2691f9b9-7d78-427a-e0e9-8f545125876e",
        "colab": {
          "base_uri": "https://localhost:8080/",
          "height": 51
        }
      },
      "source": [
        "\n",
        "print(\"Number of images in Training set:\", len(train_data))\n",
        "print(\"Number of images in Test set:\", len(test_data))"
      ],
      "execution_count": 0,
      "outputs": [
        {
          "output_type": "stream",
          "text": [
            "Number of images in Training set: 32298\n",
            "Number of images in Test set: 3589\n"
          ],
          "name": "stdout"
        }
      ]
    },
    {
      "cell_type": "code",
      "metadata": {
        "id": "F3VAm1A-0fpD",
        "colab_type": "code",
        "outputId": "92e30c2e-b938-4142-a205-706a35d04e95",
        "colab": {
          "base_uri": "https://localhost:8080/",
          "height": 1000
        }
      },
      "source": [
        "\n",
        "epochs = 45\n",
        "batch_size = 128\n",
        "learning_rate = 0.0015\n",
        "\n",
        "\n",
        "model = Sequential()\n",
        "    \n",
        "model.add(Conv2D(64, (3, 3), activation='relu', input_shape=(48, 48, 1), kernel_regularizer=l2(0.01)))\n",
        "model.add(Conv2D(64, (3, 3), padding='same',activation='relu',kernel_regularizer=l2(0.01)))\n",
        "model.add(BatchNormalization())\n",
        "model.add(MaxPooling2D(pool_size=(2,2), strides=(2, 2)))\n",
        "model.add(Dropout(0.35))\n",
        "    \n",
        "model.add(Conv2D(128, (3, 3), padding='same', activation='relu',kernel_regularizer=l2(0.01)))\n",
        "model.add(BatchNormalization())\n",
        "model.add(Conv2D(128, (3, 3), padding='same', activation='relu',kernel_regularizer=l2(0.01)))\n",
        "model.add(BatchNormalization())\n",
        "model.add(Conv2D(128, (3, 3), padding='same', activation='relu',kernel_regularizer=l2(0.01)))\n",
        "model.add(BatchNormalization())\n",
        "model.add(MaxPooling2D(pool_size=(2,2)))\n",
        "model.add(Dropout(0.35))\n",
        "    \n",
        "model.add(Conv2D(256, (3, 3), padding='same', activation='relu'))\n",
        "model.add(BatchNormalization())\n",
        "model.add(Conv2D(256, (3, 3), padding='same', activation='relu'))\n",
        "model.add(BatchNormalization())\n",
        "model.add(Conv2D(256, (3, 3), padding='same', activation='relu'))\n",
        "model.add(BatchNormalization())\n",
        "model.add(MaxPooling2D(pool_size=(2,2)))\n",
        "model.add(Dropout(0.35))\n",
        "    \n",
        "model.add(Conv2D(512, (3, 3), padding='same', activation='relu',kernel_regularizer=l2(0.01)))\n",
        "model.add(BatchNormalization())\n",
        "model.add(Conv2D(512, (3, 3), padding='same', activation='relu',kernel_regularizer=l2(0.01)))\n",
        "model.add(BatchNormalization())\n",
        "model.add(Conv2D(512, (3, 3), padding='same', activation='relu',kernel_regularizer=l2(0.01)))\n",
        "model.add(BatchNormalization())\n",
        "model.add(MaxPooling2D(pool_size=(2,2)))\n",
        "model.add(Dropout(0.35))\n",
        "    \n",
        "model.add(Flatten())\n",
        "model.add(Dense(512, activation='relu'))\n",
        "model.add(Dropout(0.35))\n",
        "model.add(Dense(256, activation='relu'))\n",
        "model.add(Dropout(0.35))\n",
        "model.add(Dense(128, activation='relu'))\n",
        "model.add(Dropout(0.35))\n",
        "model.add(Dense(64, activation='relu'))\n",
        "model.add(Dropout(0.35))\n",
        "model.add(Dense(7, activation='softmax'))\n",
        "adam = optimizers.Adam(lr = learning_rate)\n",
        "model.compile(optimizer = adam, loss = 'categorical_crossentropy', metrics = ['accuracy'])\n",
        "    \n",
        "print(model.summary())\n",
        "\n",
        "lr_reducer = ReduceLROnPlateau(monitor='val_loss', factor=0.9, patience=3)\n",
        "history=model.fit(x_train, y_train,\n",
        "          batch_size=batch_size,\n",
        "          epochs=epochs,verbose=1,\n",
        "          \n",
        "         )"
      ],
      "execution_count": 0,
      "outputs": [
        {
          "output_type": "stream",
          "text": [
            "Model: \"sequential_2\"\n",
            "_________________________________________________________________\n",
            "Layer (type)                 Output Shape              Param #   \n",
            "=================================================================\n",
            "conv2d_12 (Conv2D)           (None, 46, 46, 64)        640       \n",
            "_________________________________________________________________\n",
            "conv2d_13 (Conv2D)           (None, 46, 46, 64)        36928     \n",
            "_________________________________________________________________\n",
            "batch_normalization_11 (Batc (None, 46, 46, 64)        256       \n",
            "_________________________________________________________________\n",
            "max_pooling2d_5 (MaxPooling2 (None, 23, 23, 64)        0         \n",
            "_________________________________________________________________\n",
            "dropout_9 (Dropout)          (None, 23, 23, 64)        0         \n",
            "_________________________________________________________________\n",
            "conv2d_14 (Conv2D)           (None, 23, 23, 128)       73856     \n",
            "_________________________________________________________________\n",
            "batch_normalization_12 (Batc (None, 23, 23, 128)       512       \n",
            "_________________________________________________________________\n",
            "conv2d_15 (Conv2D)           (None, 23, 23, 128)       147584    \n",
            "_________________________________________________________________\n",
            "batch_normalization_13 (Batc (None, 23, 23, 128)       512       \n",
            "_________________________________________________________________\n",
            "conv2d_16 (Conv2D)           (None, 23, 23, 128)       147584    \n",
            "_________________________________________________________________\n",
            "batch_normalization_14 (Batc (None, 23, 23, 128)       512       \n",
            "_________________________________________________________________\n",
            "max_pooling2d_6 (MaxPooling2 (None, 11, 11, 128)       0         \n",
            "_________________________________________________________________\n",
            "dropout_10 (Dropout)         (None, 11, 11, 128)       0         \n",
            "_________________________________________________________________\n",
            "conv2d_17 (Conv2D)           (None, 11, 11, 256)       295168    \n",
            "_________________________________________________________________\n",
            "batch_normalization_15 (Batc (None, 11, 11, 256)       1024      \n",
            "_________________________________________________________________\n",
            "conv2d_18 (Conv2D)           (None, 11, 11, 256)       590080    \n",
            "_________________________________________________________________\n",
            "batch_normalization_16 (Batc (None, 11, 11, 256)       1024      \n",
            "_________________________________________________________________\n",
            "conv2d_19 (Conv2D)           (None, 11, 11, 256)       590080    \n",
            "_________________________________________________________________\n",
            "batch_normalization_17 (Batc (None, 11, 11, 256)       1024      \n",
            "_________________________________________________________________\n",
            "max_pooling2d_7 (MaxPooling2 (None, 5, 5, 256)         0         \n",
            "_________________________________________________________________\n",
            "dropout_11 (Dropout)         (None, 5, 5, 256)         0         \n",
            "_________________________________________________________________\n",
            "conv2d_20 (Conv2D)           (None, 5, 5, 512)         1180160   \n",
            "_________________________________________________________________\n",
            "batch_normalization_18 (Batc (None, 5, 5, 512)         2048      \n",
            "_________________________________________________________________\n",
            "conv2d_21 (Conv2D)           (None, 5, 5, 512)         2359808   \n",
            "_________________________________________________________________\n",
            "batch_normalization_19 (Batc (None, 5, 5, 512)         2048      \n",
            "_________________________________________________________________\n",
            "conv2d_22 (Conv2D)           (None, 5, 5, 512)         2359808   \n",
            "_________________________________________________________________\n",
            "batch_normalization_20 (Batc (None, 5, 5, 512)         2048      \n",
            "_________________________________________________________________\n",
            "max_pooling2d_8 (MaxPooling2 (None, 2, 2, 512)         0         \n",
            "_________________________________________________________________\n",
            "dropout_12 (Dropout)         (None, 2, 2, 512)         0         \n",
            "_________________________________________________________________\n",
            "flatten_2 (Flatten)          (None, 2048)              0         \n",
            "_________________________________________________________________\n",
            "dense_6 (Dense)              (None, 512)               1049088   \n",
            "_________________________________________________________________\n",
            "dropout_13 (Dropout)         (None, 512)               0         \n",
            "_________________________________________________________________\n",
            "dense_7 (Dense)              (None, 256)               131328    \n",
            "_________________________________________________________________\n",
            "dropout_14 (Dropout)         (None, 256)               0         \n",
            "_________________________________________________________________\n",
            "dense_8 (Dense)              (None, 128)               32896     \n",
            "_________________________________________________________________\n",
            "dropout_15 (Dropout)         (None, 128)               0         \n",
            "_________________________________________________________________\n",
            "dense_9 (Dense)              (None, 64)                8256      \n",
            "_________________________________________________________________\n",
            "dropout_16 (Dropout)         (None, 64)                0         \n",
            "_________________________________________________________________\n",
            "dense_10 (Dense)             (None, 7)                 455       \n",
            "=================================================================\n",
            "Total params: 9,014,727\n",
            "Trainable params: 9,009,223\n",
            "Non-trainable params: 5,504\n",
            "_________________________________________________________________\n",
            "None\n"
          ],
          "name": "stdout"
        },
        {
          "output_type": "error",
          "ename": "ValueError",
          "evalue": "ignored",
          "traceback": [
            "\u001b[0;31m---------------------------------------------------------------------------\u001b[0m",
            "\u001b[0;31mValueError\u001b[0m                                Traceback (most recent call last)",
            "\u001b[0;32m<ipython-input-11-918fdd89c9f2>\u001b[0m in \u001b[0;36m<module>\u001b[0;34m()\u001b[0m\n\u001b[1;32m     58\u001b[0m history=model.fit(x_train, y_train,\n\u001b[1;32m     59\u001b[0m           \u001b[0mbatch_size\u001b[0m\u001b[0;34m=\u001b[0m\u001b[0mbatch_size\u001b[0m\u001b[0;34m,\u001b[0m\u001b[0;34m\u001b[0m\u001b[0;34m\u001b[0m\u001b[0m\n\u001b[0;32m---> 60\u001b[0;31m           \u001b[0mepochs\u001b[0m\u001b[0;34m=\u001b[0m\u001b[0mepochs\u001b[0m\u001b[0;34m,\u001b[0m\u001b[0mverbose\u001b[0m\u001b[0;34m=\u001b[0m\u001b[0;36m1\u001b[0m\u001b[0;34m,\u001b[0m\u001b[0;34m\u001b[0m\u001b[0;34m\u001b[0m\u001b[0m\n\u001b[0m\u001b[1;32m     61\u001b[0m \u001b[0;34m\u001b[0m\u001b[0m\n\u001b[1;32m     62\u001b[0m          )\n",
            "\u001b[0;32m/usr/local/lib/python3.6/dist-packages/keras/engine/training.py\u001b[0m in \u001b[0;36mfit\u001b[0;34m(self, x, y, batch_size, epochs, verbose, callbacks, validation_split, validation_data, shuffle, class_weight, sample_weight, initial_epoch, steps_per_epoch, validation_steps, validation_freq, max_queue_size, workers, use_multiprocessing, **kwargs)\u001b[0m\n\u001b[1;32m   1087\u001b[0m             \u001b[0msample_weight\u001b[0m\u001b[0;34m=\u001b[0m\u001b[0msample_weight\u001b[0m\u001b[0;34m,\u001b[0m\u001b[0;34m\u001b[0m\u001b[0;34m\u001b[0m\u001b[0m\n\u001b[1;32m   1088\u001b[0m             \u001b[0mclass_weight\u001b[0m\u001b[0;34m=\u001b[0m\u001b[0mclass_weight\u001b[0m\u001b[0;34m,\u001b[0m\u001b[0;34m\u001b[0m\u001b[0;34m\u001b[0m\u001b[0m\n\u001b[0;32m-> 1089\u001b[0;31m             batch_size=batch_size)\n\u001b[0m\u001b[1;32m   1090\u001b[0m \u001b[0;34m\u001b[0m\u001b[0m\n\u001b[1;32m   1091\u001b[0m         \u001b[0;31m# Prepare validation data.\u001b[0m\u001b[0;34m\u001b[0m\u001b[0;34m\u001b[0m\u001b[0;34m\u001b[0m\u001b[0m\n",
            "\u001b[0;32m/usr/local/lib/python3.6/dist-packages/keras/engine/training.py\u001b[0m in \u001b[0;36m_standardize_user_data\u001b[0;34m(self, x, y, sample_weight, class_weight, check_array_lengths, batch_size)\u001b[0m\n\u001b[1;32m    793\u001b[0m                 \u001b[0mfeed_output_shapes\u001b[0m\u001b[0;34m,\u001b[0m\u001b[0;34m\u001b[0m\u001b[0;34m\u001b[0m\u001b[0m\n\u001b[1;32m    794\u001b[0m                 \u001b[0mcheck_batch_axis\u001b[0m\u001b[0;34m=\u001b[0m\u001b[0;32mFalse\u001b[0m\u001b[0;34m,\u001b[0m  \u001b[0;31m# Don't enforce the batch size.\u001b[0m\u001b[0;34m\u001b[0m\u001b[0;34m\u001b[0m\u001b[0m\n\u001b[0;32m--> 795\u001b[0;31m                 exception_prefix='target')\n\u001b[0m\u001b[1;32m    796\u001b[0m \u001b[0;34m\u001b[0m\u001b[0m\n\u001b[1;32m    797\u001b[0m             \u001b[0;31m# Generate sample-wise weight values given the `sample_weight` and\u001b[0m\u001b[0;34m\u001b[0m\u001b[0;34m\u001b[0m\u001b[0;34m\u001b[0m\u001b[0m\n",
            "\u001b[0;32m/usr/local/lib/python3.6/dist-packages/keras/engine/training_utils.py\u001b[0m in \u001b[0;36mstandardize_input_data\u001b[0;34m(data, names, shapes, check_batch_axis, exception_prefix)\u001b[0m\n\u001b[1;32m    129\u001b[0m                         \u001b[0;34m': expected '\u001b[0m \u001b[0;34m+\u001b[0m \u001b[0mnames\u001b[0m\u001b[0;34m[\u001b[0m\u001b[0mi\u001b[0m\u001b[0;34m]\u001b[0m \u001b[0;34m+\u001b[0m \u001b[0;34m' to have '\u001b[0m \u001b[0;34m+\u001b[0m\u001b[0;34m\u001b[0m\u001b[0;34m\u001b[0m\u001b[0m\n\u001b[1;32m    130\u001b[0m                         \u001b[0mstr\u001b[0m\u001b[0;34m(\u001b[0m\u001b[0mlen\u001b[0m\u001b[0;34m(\u001b[0m\u001b[0mshape\u001b[0m\u001b[0;34m)\u001b[0m\u001b[0;34m)\u001b[0m \u001b[0;34m+\u001b[0m \u001b[0;34m' dimensions, but got array '\u001b[0m\u001b[0;34m\u001b[0m\u001b[0;34m\u001b[0m\u001b[0m\n\u001b[0;32m--> 131\u001b[0;31m                         'with shape ' + str(data_shape))\n\u001b[0m\u001b[1;32m    132\u001b[0m                 \u001b[0;32mif\u001b[0m \u001b[0;32mnot\u001b[0m \u001b[0mcheck_batch_axis\u001b[0m\u001b[0;34m:\u001b[0m\u001b[0;34m\u001b[0m\u001b[0;34m\u001b[0m\u001b[0m\n\u001b[1;32m    133\u001b[0m                     \u001b[0mdata_shape\u001b[0m \u001b[0;34m=\u001b[0m \u001b[0mdata_shape\u001b[0m\u001b[0;34m[\u001b[0m\u001b[0;36m1\u001b[0m\u001b[0;34m:\u001b[0m\u001b[0;34m]\u001b[0m\u001b[0;34m\u001b[0m\u001b[0;34m\u001b[0m\u001b[0m\n",
            "\u001b[0;31mValueError\u001b[0m: Error when checking target: expected dense_10 to have 2 dimensions, but got array with shape (28709, 7, 7, 7)"
          ]
        }
      ]
    },
    {
      "cell_type": "code",
      "metadata": {
        "id": "h2mVJchret-9",
        "colab_type": "code",
        "colab": {}
      },
      "source": [
        "from sklearn.metrics import classification_report, confusion_matrix\n",
        "from sklearn.metrics import confusion_matrix \n",
        "from sklearn.metrics import accuracy_score \n",
        "from sklearn.metrics import classification_report \n",
        "from tabulate import tabulate\n",
        "pred_list = []; actual_list = []\n",
        "ssz=0\n",
        "\n",
        "for i in y_test:\n",
        " \n",
        "  actual_list.append(np.argmax(i))\n",
        "  ssz+=1\n",
        "\n",
        "for i in range(2*ssz,3*ssz):\n",
        " pred_list.append(np.argmax(y_train[i]))\n",
        "\n",
        "\n",
        "\n",
        "results=confusion_matrix(actual_list, pred_list)\n",
        "print (tabulate(results,headers=['angry', 'disgust', 'fear', 'happy', 'sad', 'surprise', 'neutral']))\n",
        "print()\n",
        "print(\"presenting reports\")\n",
        "print()\n",
        "print(classification_report(actual_list, pred_list))\n"
      ],
      "execution_count": 0,
      "outputs": []
    },
    {
      "cell_type": "code",
      "metadata": {
        "id": "e1fd6fVbo9vj",
        "colab_type": "code",
        "colab": {}
      },
      "source": [
        "import matplotlib.pyplot as plt\n",
        "\n",
        "plt.figure(figsize=(13,7))\n",
        "plt.subplot(1, 2, 1)\n",
        "plt.suptitle('Optimizer : Adam', fontsize=10)\n",
        "plt.ylabel('Loss', fontsize=16)\n",
        "plt.xlabel('epoch')\n",
        "plt.plot(model.history.history['loss'], label='Training Loss')\n",
        "plt.plot(model.history.history['val_loss'], label='Validation Loss')\n",
        "plt.legend(loc='upper right')\n",
        "\n",
        "plt.subplot(1, 2, 2)\n",
        "plt.ylabel('Accuracy', fontsize=16)\n",
        "plt.xlabel('epoch')\n",
        "plt.plot(model.history.history['acc'], label='Training Accuracy')\n",
        "plt.plot(model.history.history['val_acc'], label='Validation Accuracy')\n",
        "plt.legend(loc='lower right')\n",
        "plt.show()"
      ],
      "execution_count": 0,
      "outputs": []
    },
    {
      "cell_type": "code",
      "metadata": {
        "id": "OzhQw9NOWjl3",
        "colab_type": "code",
        "colab": {}
      },
      "source": [
        "predicted_test_labels = np.argmax(model.predict(test_data), axis=1)\n",
        "test_labels = np.argmax(test_labels, axis=1)\n",
        "print (\"Accuracy score = \", accuracy_score(test_labels, predicted_test_labels))"
      ],
      "execution_count": 0,
      "outputs": []
    },
    {
      "cell_type": "code",
      "metadata": {
        "id": "uiMswpPsr4KK",
        "colab_type": "code",
        "outputId": "245e4746-a99b-44e4-b152-4e01d14ac88b",
        "colab": {
          "base_uri": "https://localhost:8080/",
          "height": 294
        }
      },
      "source": [
        "from keras.models import model_from_json\n",
        "model_json = model.to_json()\n",
        "with open(\"/content/gdrive/My Drive/Colab Notebooks/fcc.json\", \"w\") as json_file:\n",
        "    json_file.write(model_json)\n",
        "# serialize weights to HDF5\n",
        "model.save_weights(\"/content/gdrive/My Drive/Colab Notebooks/fcc.h5\")\n",
        "print(\"Saved model to disk\")"
      ],
      "execution_count": 0,
      "outputs": [
        {
          "output_type": "stream",
          "text": [
            "Using TensorFlow backend.\n"
          ],
          "name": "stderr"
        },
        {
          "output_type": "display_data",
          "data": {
            "text/html": [
              "<p style=\"color: red;\">\n",
              "The default version of TensorFlow in Colab will soon switch to TensorFlow 2.x.<br>\n",
              "We recommend you <a href=\"https://www.tensorflow.org/guide/migrate\" target=\"_blank\">upgrade</a> now \n",
              "or ensure your notebook will continue to use TensorFlow 1.x via the <code>%tensorflow_version 1.x</code> magic:\n",
              "<a href=\"https://colab.research.google.com/notebooks/tensorflow_version.ipynb\" target=\"_blank\">more info</a>.</p>\n"
            ],
            "text/plain": [
              "<IPython.core.display.HTML object>"
            ]
          },
          "metadata": {
            "tags": []
          }
        },
        {
          "output_type": "error",
          "ename": "NameError",
          "evalue": "ignored",
          "traceback": [
            "\u001b[0;31m---------------------------------------------------------------------------\u001b[0m",
            "\u001b[0;31mNameError\u001b[0m                                 Traceback (most recent call last)",
            "\u001b[0;32m<ipython-input-4-76680edc3911>\u001b[0m in \u001b[0;36m<module>\u001b[0;34m()\u001b[0m\n\u001b[1;32m      1\u001b[0m \u001b[0;32mfrom\u001b[0m \u001b[0mkeras\u001b[0m\u001b[0;34m.\u001b[0m\u001b[0mmodels\u001b[0m \u001b[0;32mimport\u001b[0m \u001b[0mmodel_from_json\u001b[0m\u001b[0;34m\u001b[0m\u001b[0;34m\u001b[0m\u001b[0m\n\u001b[0;32m----> 2\u001b[0;31m \u001b[0mmodel_json\u001b[0m \u001b[0;34m=\u001b[0m \u001b[0mmodel\u001b[0m\u001b[0;34m.\u001b[0m\u001b[0mto_json\u001b[0m\u001b[0;34m(\u001b[0m\u001b[0;34m)\u001b[0m\u001b[0;34m\u001b[0m\u001b[0;34m\u001b[0m\u001b[0m\n\u001b[0m\u001b[1;32m      3\u001b[0m \u001b[0;32mwith\u001b[0m \u001b[0mopen\u001b[0m\u001b[0;34m(\u001b[0m\u001b[0;34m\"/content/gdrive/My Drive/Colab Notebooks/fcc.json\"\u001b[0m\u001b[0;34m,\u001b[0m \u001b[0;34m\"w\"\u001b[0m\u001b[0;34m)\u001b[0m \u001b[0;32mas\u001b[0m \u001b[0mjson_file\u001b[0m\u001b[0;34m:\u001b[0m\u001b[0;34m\u001b[0m\u001b[0;34m\u001b[0m\u001b[0m\n\u001b[1;32m      4\u001b[0m     \u001b[0mjson_file\u001b[0m\u001b[0;34m.\u001b[0m\u001b[0mwrite\u001b[0m\u001b[0;34m(\u001b[0m\u001b[0mmodel_json\u001b[0m\u001b[0;34m)\u001b[0m\u001b[0;34m\u001b[0m\u001b[0;34m\u001b[0m\u001b[0m\n\u001b[1;32m      5\u001b[0m \u001b[0;31m# serialize weights to HDF5\u001b[0m\u001b[0;34m\u001b[0m\u001b[0;34m\u001b[0m\u001b[0;34m\u001b[0m\u001b[0m\n",
            "\u001b[0;31mNameError\u001b[0m: name 'model' is not defined"
          ]
        }
      ]
    }
  ]
}