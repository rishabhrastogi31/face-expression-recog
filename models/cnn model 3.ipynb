{
  "nbformat": 4,
  "nbformat_minor": 0,
  "metadata": {
    "colab": {
      "name": "model4.ipynb",
      "provenance": [],
      "collapsed_sections": []
    },
    "kernelspec": {
      "name": "python3",
      "display_name": "Python 3"
    },
    "accelerator": "GPU"
  },
  "cells": [
    {
      "cell_type": "code",
      "metadata": {
        "id": "g3mJ8E1aSh0M",
        "colab_type": "code",
        "outputId": "66464128-b940-440e-e2a7-224de626c4a6",
        "colab": {
          "base_uri": "https://localhost:8080/",
          "height": 121
        }
      },
      "source": [
        "from google.colab import drive\n",
        "drive.mount('/content/gdrive')"
      ],
      "execution_count": 0,
      "outputs": [
        {
          "output_type": "stream",
          "text": [
            "Go to this URL in a browser: https://accounts.google.com/o/oauth2/auth?client_id=947318989803-6bn6qk8qdgf4n4g3pfee6491hc0brc4i.apps.googleusercontent.com&redirect_uri=urn%3aietf%3awg%3aoauth%3a2.0%3aoob&response_type=code&scope=email%20https%3a%2f%2fwww.googleapis.com%2fauth%2fdocs.test%20https%3a%2f%2fwww.googleapis.com%2fauth%2fdrive%20https%3a%2f%2fwww.googleapis.com%2fauth%2fdrive.photos.readonly%20https%3a%2f%2fwww.googleapis.com%2fauth%2fpeopleapi.readonly\n",
            "\n",
            "Enter your authorization code:\n",
            "··········\n",
            "Mounted at /content/gdrive\n"
          ],
          "name": "stdout"
        }
      ]
    },
    {
      "cell_type": "code",
      "metadata": {
        "id": "e5MjFgiEpAWb",
        "colab_type": "code",
        "colab": {}
      },
      "source": [
        ""
      ],
      "execution_count": 0,
      "outputs": []
    },
    {
      "cell_type": "code",
      "metadata": {
        "id": "OJhi_CR7Syvh",
        "colab_type": "code",
        "colab": {}
      },
      "source": [
        "%matplotlib inline\n",
        "import matplotlib.pyplot as plt\n",
        "\n",
        "import numpy as np\n",
        "from keras.utils import to_categorical\n",
        "from sklearn.model_selection import train_test_split\n",
        "from keras.preprocessing.image import ImageDataGenerator\n",
        "from keras.models import Sequential #Initialise our neural network model as a sequential network\n",
        "from keras.layers import Conv2D #Convolution operation\n",
        "from keras.layers.normalization import BatchNormalization\n",
        "from keras.regularizers import l2\n",
        "from keras.layers import Activation#Applies activation function\n",
        "from keras.layers import Dropout#Prevents overfitting by randomly converting few outputs to zero\n",
        "from keras.layers import MaxPooling2D # Maxpooling function\n",
        "from keras.layers import Flatten # Converting 2D arrays into a 1D linear vector\n",
        "from keras.layers import Dense # Regular fully connected neural network\n",
        "from keras import optimizers\n",
        "from keras.callbacks import ReduceLROnPlateau, EarlyStopping, TensorBoard, ModelCheckpoint\n",
        "from sklearn.metrics import accuracy_score"
      ],
      "execution_count": 0,
      "outputs": []
    },
    {
      "cell_type": "code",
      "metadata": {
        "id": "NHjLDxj2S4Jz",
        "colab_type": "code",
        "colab": {}
      },
      "source": [
        "def load_data(dataset_path):\n",
        "  \n",
        "  #classes = ['Angry', 'Disgust', 'Fear', 'Happy', 'Sad', 'Surprsie', 'Neutral']  #We will be dealing with seven different types of emotions.\n",
        "\n",
        "  data = []\n",
        "  test_data = []\n",
        "  test_labels = []\n",
        "  labels =[]\n",
        "\n",
        "  with open(dataset_path, 'r') as file:\n",
        "      for line_no, line in enumerate(file.readlines()):\n",
        "          if 0 < line_no <= 35887:\n",
        "            curr_class, line, set_type = line.split(',')\n",
        "            image_data = np.asarray([int(x) for x in line.split()]).reshape(48, 48)#Creating a list out of the string then converting it into a 2-Dimensional numpy array.\n",
        "            image_data =image_data.astype(np.uint8)/255.0\n",
        "            \n",
        "            if (set_type.strip() == 'PrivateTest'):\n",
        "              \n",
        "              test_data.append(image_data)\n",
        "              test_labels.append(curr_class)\n",
        "            else:\n",
        "              data.append(image_data)\n",
        "              labels.append(curr_class)\n",
        "      \n",
        "      test_data = np.expand_dims(test_data, -1)\n",
        "      test_labels = to_categorical(test_labels, num_classes = 7)\n",
        "      data = np.expand_dims(data, -1)   \n",
        "      labels = to_categorical(labels, num_classes = 7)\n",
        "    \n",
        "      return np.array(data), np.array(labels), np.array(test_data), np.array(test_labels)"
      ],
      "execution_count": 0,
      "outputs": []
    },
    {
      "cell_type": "code",
      "metadata": {
        "colab_type": "code",
        "outputId": "8fdf4421-9aca-470d-e273-ee1491be3a79",
        "id": "UYUi9U4gauAm",
        "colab": {
          "base_uri": "https://localhost:8080/",
          "height": 50
        }
      },
      "source": [
        "dataset_path = \"/content/gdrive/My Drive/fer2013.csv\" \n",
        "train_data, train_labels, test_data, test_labels = load_data(dataset_path)\n",
        "#train_data, test_data, train_labels, test_labels = train_test_split(data, labels, test_size = test_size,random_state = seed)\n",
        "\n",
        "print(\"Number of images in Training set:\", len(train_data))\n",
        "print(\"Number of images in Test set:\", len(test_data))"
      ],
      "execution_count": 0,
      "outputs": [
        {
          "output_type": "stream",
          "text": [
            "Number of images in Training set: 32298\n",
            "Number of images in Test set: 3589\n"
          ],
          "name": "stdout"
        }
      ]
    },
    {
      "cell_type": "code",
      "metadata": {
        "colab_type": "code",
        "outputId": "48afdc55-3332-4fce-f377-56c09a0771e9",
        "id": "U71JffUVaubu",
        "colab": {
          "base_uri": "https://localhost:8080/",
          "height": 1000
        }
      },
      "source": [
        "epochs = 100\n",
        "batch_size = 64\n",
        "learning_rate = 0.001\n",
        "#################################\n",
        "\n",
        "model = Sequential()\n",
        "    \n",
        "model.add(Conv2D(64, (3, 3), activation='relu', input_shape=(48, 48, 1), kernel_regularizer=l2(0.01)))\n",
        "model.add(Conv2D(64, (3, 3), padding='same',activation='relu'))\n",
        "model.add(BatchNormalization())\n",
        "model.add(MaxPooling2D(pool_size=(2,2), strides=(2, 2)))\n",
        "model.add(Dropout(0.5))\n",
        "    \n",
        "model.add(Conv2D(128, (3, 3), padding='same', activation='relu'))\n",
        "model.add(BatchNormalization())\n",
        "model.add(Conv2D(128, (3, 3), padding='same', activation='relu'))\n",
        "model.add(BatchNormalization())\n",
        "model.add(Conv2D(128, (3, 3), padding='same', activation='relu'))\n",
        "model.add(BatchNormalization())\n",
        "model.add(MaxPooling2D(pool_size=(2,2)))\n",
        "model.add(Dropout(0.5))\n",
        "    \n",
        "model.add(Conv2D(256, (3, 3), padding='same', activation='relu'))\n",
        "model.add(BatchNormalization())\n",
        "model.add(Conv2D(256, (3, 3), padding='same', activation='relu'))\n",
        "model.add(BatchNormalization())\n",
        "model.add(Conv2D(256, (3, 3), padding='same', activation='relu'))\n",
        "model.add(BatchNormalization())\n",
        "model.add(MaxPooling2D(pool_size=(2,2)))\n",
        "model.add(Dropout(0.5))\n",
        "    \n",
        "model.add(Conv2D(512, (3, 3), padding='same', activation='relu'))\n",
        "model.add(BatchNormalization())\n",
        "model.add(Conv2D(512, (3, 3), padding='same', activation='relu'))\n",
        "model.add(BatchNormalization())\n",
        "model.add(Conv2D(512, (3, 3), padding='same', activation='relu'))\n",
        "model.add(BatchNormalization())\n",
        "model.add(MaxPooling2D(pool_size=(2,2)))\n",
        "model.add(Dropout(0.5))\n",
        "    \n",
        "model.add(Flatten())\n",
        "model.add(Dense(512, activation='relu'))\n",
        "model.add(Dropout(0.5))\n",
        "model.add(Dense(256, activation='relu'))\n",
        "model.add(Dropout(0.5))\n",
        "model.add(Dense(128, activation='relu'))\n",
        "model.add(Dropout(0.5))\n",
        "model.add(Dense(64, activation='relu'))\n",
        "model.add(Dropout(0.5))\n",
        "model.add(Dense(7, activation='softmax'))\n",
        "adam = optimizers.Adam(lr = learning_rate)\n",
        "model.compile(optimizer = adam, loss = 'categorical_crossentropy', metrics = ['accuracy'])\n",
        "    \n",
        "print(model.summary())\n",
        "\n",
        "datagen = ImageDataGenerator(featurewise_center=True, \n",
        "                             featurewise_std_normalization=True,\n",
        "                             zoom_range = 0.15,\n",
        "                             rotation_range=20,\n",
        "                             width_shift_range=0.2,\n",
        "                             height_shift_range=0.2,\n",
        "                             shear_range = 0.15,\n",
        "                             horizontal_flip=True,\n",
        "                             fill_mode = \"nearest\")\n",
        "\n",
        "lr_reducer = ReduceLROnPlateau(monitor='val_loss', factor=0.9, patience=3)\n",
        "early_stopper = EarlyStopping(monitor='val_acc', min_delta=0, patience=6, mode='auto')\n",
        "checkpointer = ModelCheckpoint('/content/gdrive/My Drive/Colab Notebooks/freecode/fer.hd5', monitor='val_loss', verbose=1, save_best_only=True)\n",
        "\n",
        "datagen.fit(train_data)\n",
        "model.fit_generator(datagen.flow(train_data, train_labels, batch_size= batch_size), validation_data = (test_data, test_labels), steps_per_epoch=len(train_data)/batch_size, epochs=epochs, verbose =1)\n"
      ],
      "execution_count": 0,
      "outputs": [
        {
          "output_type": "stream",
          "text": [
            "Model: \"sequential_6\"\n",
            "_________________________________________________________________\n",
            "Layer (type)                 Output Shape              Param #   \n",
            "=================================================================\n",
            "conv2d_56 (Conv2D)           (None, 46, 46, 64)        640       \n",
            "_________________________________________________________________\n",
            "conv2d_57 (Conv2D)           (None, 46, 46, 64)        36928     \n",
            "_________________________________________________________________\n",
            "batch_normalization_51 (Batc (None, 46, 46, 64)        256       \n",
            "_________________________________________________________________\n",
            "max_pooling2d_21 (MaxPooling (None, 23, 23, 64)        0         \n",
            "_________________________________________________________________\n",
            "dropout_41 (Dropout)         (None, 23, 23, 64)        0         \n",
            "_________________________________________________________________\n",
            "conv2d_58 (Conv2D)           (None, 23, 23, 128)       73856     \n",
            "_________________________________________________________________\n",
            "batch_normalization_52 (Batc (None, 23, 23, 128)       512       \n",
            "_________________________________________________________________\n",
            "conv2d_59 (Conv2D)           (None, 23, 23, 128)       147584    \n",
            "_________________________________________________________________\n",
            "batch_normalization_53 (Batc (None, 23, 23, 128)       512       \n",
            "_________________________________________________________________\n",
            "conv2d_60 (Conv2D)           (None, 23, 23, 128)       147584    \n",
            "_________________________________________________________________\n",
            "batch_normalization_54 (Batc (None, 23, 23, 128)       512       \n",
            "_________________________________________________________________\n",
            "max_pooling2d_22 (MaxPooling (None, 11, 11, 128)       0         \n",
            "_________________________________________________________________\n",
            "dropout_42 (Dropout)         (None, 11, 11, 128)       0         \n",
            "_________________________________________________________________\n",
            "conv2d_61 (Conv2D)           (None, 11, 11, 256)       295168    \n",
            "_________________________________________________________________\n",
            "batch_normalization_55 (Batc (None, 11, 11, 256)       1024      \n",
            "_________________________________________________________________\n",
            "conv2d_62 (Conv2D)           (None, 11, 11, 256)       590080    \n",
            "_________________________________________________________________\n",
            "batch_normalization_56 (Batc (None, 11, 11, 256)       1024      \n",
            "_________________________________________________________________\n",
            "conv2d_63 (Conv2D)           (None, 11, 11, 256)       590080    \n",
            "_________________________________________________________________\n",
            "batch_normalization_57 (Batc (None, 11, 11, 256)       1024      \n",
            "_________________________________________________________________\n",
            "max_pooling2d_23 (MaxPooling (None, 5, 5, 256)         0         \n",
            "_________________________________________________________________\n",
            "dropout_43 (Dropout)         (None, 5, 5, 256)         0         \n",
            "_________________________________________________________________\n",
            "conv2d_64 (Conv2D)           (None, 5, 5, 512)         1180160   \n",
            "_________________________________________________________________\n",
            "batch_normalization_58 (Batc (None, 5, 5, 512)         2048      \n",
            "_________________________________________________________________\n",
            "conv2d_65 (Conv2D)           (None, 5, 5, 512)         2359808   \n",
            "_________________________________________________________________\n",
            "batch_normalization_59 (Batc (None, 5, 5, 512)         2048      \n",
            "_________________________________________________________________\n",
            "conv2d_66 (Conv2D)           (None, 5, 5, 512)         2359808   \n",
            "_________________________________________________________________\n",
            "batch_normalization_60 (Batc (None, 5, 5, 512)         2048      \n",
            "_________________________________________________________________\n",
            "max_pooling2d_24 (MaxPooling (None, 2, 2, 512)         0         \n",
            "_________________________________________________________________\n",
            "dropout_44 (Dropout)         (None, 2, 2, 512)         0         \n",
            "_________________________________________________________________\n",
            "flatten_6 (Flatten)          (None, 2048)              0         \n",
            "_________________________________________________________________\n",
            "dense_26 (Dense)             (None, 512)               1049088   \n",
            "_________________________________________________________________\n",
            "dropout_45 (Dropout)         (None, 512)               0         \n",
            "_________________________________________________________________\n",
            "dense_27 (Dense)             (None, 256)               131328    \n",
            "_________________________________________________________________\n",
            "dropout_46 (Dropout)         (None, 256)               0         \n",
            "_________________________________________________________________\n",
            "dense_28 (Dense)             (None, 128)               32896     \n",
            "_________________________________________________________________\n",
            "dropout_47 (Dropout)         (None, 128)               0         \n",
            "_________________________________________________________________\n",
            "dense_29 (Dense)             (None, 64)                8256      \n",
            "_________________________________________________________________\n",
            "dropout_48 (Dropout)         (None, 64)                0         \n",
            "_________________________________________________________________\n",
            "dense_30 (Dense)             (None, 7)                 455       \n",
            "=================================================================\n",
            "Total params: 9,014,727\n",
            "Trainable params: 9,009,223\n",
            "Non-trainable params: 5,504\n",
            "_________________________________________________________________\n",
            "None\n",
            "Epoch 1/100\n",
            "505/504 [==============================] - 29s 57ms/step - loss: 2.0483 - acc: 0.2030 - val_loss: 1.8471 - val_acc: 0.2449\n",
            "Epoch 2/100\n",
            "505/504 [==============================] - 24s 47ms/step - loss: 1.8530 - acc: 0.2406 - val_loss: 1.8372 - val_acc: 0.2449\n",
            "Epoch 3/100\n",
            "505/504 [==============================] - 23s 46ms/step - loss: 1.8390 - acc: 0.2466 - val_loss: 1.8336 - val_acc: 0.2449\n",
            "Epoch 4/100\n",
            "505/504 [==============================] - 23s 46ms/step - loss: 1.8308 - acc: 0.2505 - val_loss: 1.8301 - val_acc: 0.2449\n",
            "Epoch 5/100\n",
            "505/504 [==============================] - 23s 46ms/step - loss: 1.8226 - acc: 0.2500 - val_loss: 1.8253 - val_acc: 0.2449\n",
            "Epoch 6/100\n",
            "505/504 [==============================] - 23s 46ms/step - loss: 1.8176 - acc: 0.2491 - val_loss: 1.8273 - val_acc: 0.2449\n",
            "Epoch 7/100\n",
            "505/504 [==============================] - 23s 46ms/step - loss: 1.8052 - acc: 0.2518 - val_loss: 1.8255 - val_acc: 0.2449\n",
            "Epoch 8/100\n",
            "505/504 [==============================] - 23s 46ms/step - loss: 1.7919 - acc: 0.2590 - val_loss: 1.8273 - val_acc: 0.2449\n",
            "Epoch 9/100\n",
            "505/504 [==============================] - 24s 47ms/step - loss: 1.7567 - acc: 0.2797 - val_loss: 1.7767 - val_acc: 0.2538\n",
            "Epoch 10/100\n",
            "505/504 [==============================] - 23s 46ms/step - loss: 1.7369 - acc: 0.2898 - val_loss: 1.7942 - val_acc: 0.2536\n",
            "Epoch 11/100\n",
            "505/504 [==============================] - 23s 46ms/step - loss: 1.7117 - acc: 0.3015 - val_loss: 1.8274 - val_acc: 0.2505\n",
            "Epoch 12/100\n",
            "505/504 [==============================] - 23s 46ms/step - loss: 1.6776 - acc: 0.3078 - val_loss: 1.7912 - val_acc: 0.2619\n",
            "Epoch 13/100\n",
            "505/504 [==============================] - 23s 46ms/step - loss: 1.6474 - acc: 0.3235 - val_loss: 1.7806 - val_acc: 0.2686\n",
            "Epoch 14/100\n",
            "505/504 [==============================] - 23s 46ms/step - loss: 1.6113 - acc: 0.3581 - val_loss: 1.7154 - val_acc: 0.2903\n",
            "Epoch 15/100\n",
            "505/504 [==============================] - 23s 46ms/step - loss: 1.5775 - acc: 0.3790 - val_loss: 1.6426 - val_acc: 0.3525\n",
            "Epoch 16/100\n",
            "505/504 [==============================] - 23s 46ms/step - loss: 1.5277 - acc: 0.3969 - val_loss: 1.6350 - val_acc: 0.3516\n",
            "Epoch 17/100\n",
            "505/504 [==============================] - 23s 46ms/step - loss: 1.5041 - acc: 0.4084 - val_loss: 1.6104 - val_acc: 0.3497\n",
            "Epoch 18/100\n",
            "505/504 [==============================] - 23s 46ms/step - loss: 1.4878 - acc: 0.4159 - val_loss: 1.8310 - val_acc: 0.2246\n",
            "Epoch 19/100\n",
            "505/504 [==============================] - 23s 46ms/step - loss: 1.4687 - acc: 0.4218 - val_loss: 1.5399 - val_acc: 0.3853\n",
            "Epoch 20/100\n",
            "505/504 [==============================] - 23s 46ms/step - loss: 1.4475 - acc: 0.4329 - val_loss: 1.6973 - val_acc: 0.3188\n",
            "Epoch 21/100\n",
            "505/504 [==============================] - 23s 46ms/step - loss: 1.4471 - acc: 0.4295 - val_loss: 1.7072 - val_acc: 0.3288\n",
            "Epoch 22/100\n",
            "505/504 [==============================] - 23s 46ms/step - loss: 1.4381 - acc: 0.4333 - val_loss: 1.7031 - val_acc: 0.3316\n",
            "Epoch 23/100\n",
            "505/504 [==============================] - 23s 46ms/step - loss: 1.4209 - acc: 0.4377 - val_loss: 1.7064 - val_acc: 0.3266\n",
            "Epoch 24/100\n",
            "505/504 [==============================] - 23s 46ms/step - loss: 1.4125 - acc: 0.4422 - val_loss: 1.7905 - val_acc: 0.2881\n",
            "Epoch 25/100\n",
            "505/504 [==============================] - 23s 46ms/step - loss: 1.4018 - acc: 0.4441 - val_loss: 1.5766 - val_acc: 0.3720\n",
            "Epoch 26/100\n",
            "505/504 [==============================] - 23s 46ms/step - loss: 1.3967 - acc: 0.4472 - val_loss: 1.5427 - val_acc: 0.3918\n",
            "Epoch 27/100\n",
            "505/504 [==============================] - 23s 46ms/step - loss: 1.3849 - acc: 0.4528 - val_loss: 1.5303 - val_acc: 0.3898\n",
            "Epoch 28/100\n",
            "505/504 [==============================] - 23s 46ms/step - loss: 1.3845 - acc: 0.4549 - val_loss: 1.4919 - val_acc: 0.4199\n",
            "Epoch 29/100\n",
            "505/504 [==============================] - 23s 46ms/step - loss: 1.3715 - acc: 0.4673 - val_loss: 1.4319 - val_acc: 0.4391\n",
            "Epoch 30/100\n",
            "505/504 [==============================] - 23s 46ms/step - loss: 1.3602 - acc: 0.4756 - val_loss: 1.4351 - val_acc: 0.4469\n",
            "Epoch 31/100\n",
            "505/504 [==============================] - 23s 46ms/step - loss: 1.3485 - acc: 0.4837 - val_loss: 1.5303 - val_acc: 0.4221\n",
            "Epoch 32/100\n",
            "505/504 [==============================] - 23s 46ms/step - loss: 1.3309 - acc: 0.4934 - val_loss: 1.4724 - val_acc: 0.4458\n",
            "Epoch 33/100\n",
            "505/504 [==============================] - 23s 46ms/step - loss: 1.3118 - acc: 0.5077 - val_loss: 1.4358 - val_acc: 0.4620\n",
            "Epoch 34/100\n",
            "505/504 [==============================] - 23s 46ms/step - loss: 1.3139 - acc: 0.5096 - val_loss: 1.4356 - val_acc: 0.4728\n",
            "Epoch 35/100\n",
            "505/504 [==============================] - 23s 46ms/step - loss: 1.3074 - acc: 0.5144 - val_loss: 1.5137 - val_acc: 0.4402\n",
            "Epoch 36/100\n",
            "505/504 [==============================] - 23s 46ms/step - loss: 1.2971 - acc: 0.5231 - val_loss: 1.5644 - val_acc: 0.4166\n",
            "Epoch 37/100\n",
            "505/504 [==============================] - 23s 46ms/step - loss: 1.2923 - acc: 0.5246 - val_loss: 1.5104 - val_acc: 0.4277\n",
            "Epoch 38/100\n",
            "505/504 [==============================] - 23s 46ms/step - loss: 1.2788 - acc: 0.5270 - val_loss: 1.3779 - val_acc: 0.4954\n",
            "Epoch 39/100\n",
            "505/504 [==============================] - 23s 46ms/step - loss: 1.2723 - acc: 0.5317 - val_loss: 1.4704 - val_acc: 0.4533\n",
            "Epoch 40/100\n",
            "505/504 [==============================] - 23s 46ms/step - loss: 1.2587 - acc: 0.5374 - val_loss: 1.4078 - val_acc: 0.4781\n",
            "Epoch 41/100\n",
            "505/504 [==============================] - 23s 46ms/step - loss: 1.2548 - acc: 0.5395 - val_loss: 1.3755 - val_acc: 0.4929\n",
            "Epoch 42/100\n",
            "505/504 [==============================] - 23s 46ms/step - loss: 1.2522 - acc: 0.5420 - val_loss: 1.4269 - val_acc: 0.4614\n",
            "Epoch 43/100\n",
            "505/504 [==============================] - 23s 46ms/step - loss: 1.2550 - acc: 0.5434 - val_loss: 1.4479 - val_acc: 0.4759\n",
            "Epoch 44/100\n",
            "505/504 [==============================] - 23s 46ms/step - loss: 1.2361 - acc: 0.5494 - val_loss: 1.3981 - val_acc: 0.4890\n",
            "Epoch 45/100\n",
            "505/504 [==============================] - 23s 46ms/step - loss: 1.2288 - acc: 0.5507 - val_loss: 1.3770 - val_acc: 0.4951\n",
            "Epoch 46/100\n",
            "505/504 [==============================] - 23s 46ms/step - loss: 1.2207 - acc: 0.5564 - val_loss: 1.3740 - val_acc: 0.4999\n",
            "Epoch 47/100\n",
            "505/504 [==============================] - 23s 46ms/step - loss: 1.2197 - acc: 0.5539 - val_loss: 1.4574 - val_acc: 0.4670\n",
            "Epoch 48/100\n",
            "505/504 [==============================] - 23s 46ms/step - loss: 1.2153 - acc: 0.5599 - val_loss: 1.3265 - val_acc: 0.5071\n",
            "Epoch 49/100\n",
            "505/504 [==============================] - 23s 46ms/step - loss: 1.2069 - acc: 0.5601 - val_loss: 1.3913 - val_acc: 0.4935\n",
            "Epoch 50/100\n",
            "505/504 [==============================] - 23s 46ms/step - loss: 1.2012 - acc: 0.5634 - val_loss: 1.2797 - val_acc: 0.5397\n",
            "Epoch 51/100\n",
            "505/504 [==============================] - 23s 46ms/step - loss: 1.1953 - acc: 0.5691 - val_loss: 1.4242 - val_acc: 0.4868\n",
            "Epoch 52/100\n",
            "505/504 [==============================] - 23s 46ms/step - loss: 1.2010 - acc: 0.5682 - val_loss: 1.3070 - val_acc: 0.5180\n",
            "Epoch 53/100\n",
            "505/504 [==============================] - 23s 46ms/step - loss: 1.1868 - acc: 0.5706 - val_loss: 1.2246 - val_acc: 0.5517\n",
            "Epoch 54/100\n",
            "505/504 [==============================] - 23s 46ms/step - loss: 1.1797 - acc: 0.5734 - val_loss: 1.2640 - val_acc: 0.5450\n",
            "Epoch 55/100\n",
            "505/504 [==============================] - 23s 46ms/step - loss: 1.1774 - acc: 0.5772 - val_loss: 1.2760 - val_acc: 0.5336\n",
            "Epoch 56/100\n",
            "505/504 [==============================] - 23s 46ms/step - loss: 1.1743 - acc: 0.5754 - val_loss: 1.2599 - val_acc: 0.5408\n",
            "Epoch 57/100\n",
            "505/504 [==============================] - 23s 46ms/step - loss: 1.1801 - acc: 0.5727 - val_loss: 1.3211 - val_acc: 0.5091\n",
            "Epoch 58/100\n",
            "505/504 [==============================] - 23s 46ms/step - loss: 1.1733 - acc: 0.5782 - val_loss: 1.2822 - val_acc: 0.5255\n",
            "Epoch 59/100\n",
            "505/504 [==============================] - 23s 46ms/step - loss: 1.1690 - acc: 0.5798 - val_loss: 1.2648 - val_acc: 0.5327\n",
            "Epoch 60/100\n",
            "505/504 [==============================] - 23s 46ms/step - loss: 1.1707 - acc: 0.5792 - val_loss: 1.2654 - val_acc: 0.5344\n",
            "Epoch 61/100\n",
            "505/504 [==============================] - 23s 46ms/step - loss: 1.1623 - acc: 0.5813 - val_loss: 1.2526 - val_acc: 0.5369\n",
            "Epoch 62/100\n",
            "505/504 [==============================] - 23s 46ms/step - loss: 1.1523 - acc: 0.5874 - val_loss: 1.2615 - val_acc: 0.5266\n",
            "Epoch 63/100\n",
            "505/504 [==============================] - 23s 46ms/step - loss: 1.1487 - acc: 0.5875 - val_loss: 1.2484 - val_acc: 0.5378\n",
            "Epoch 64/100\n",
            "505/504 [==============================] - 23s 46ms/step - loss: 1.1554 - acc: 0.5895 - val_loss: 1.1919 - val_acc: 0.5603\n",
            "Epoch 65/100\n",
            "505/504 [==============================] - 23s 46ms/step - loss: 1.1525 - acc: 0.5854 - val_loss: 1.2863 - val_acc: 0.5272\n",
            "Epoch 66/100\n",
            "505/504 [==============================] - 23s 46ms/step - loss: 1.1453 - acc: 0.5928 - val_loss: 1.2882 - val_acc: 0.5277\n",
            "Epoch 67/100\n",
            "505/504 [==============================] - 23s 46ms/step - loss: 1.1478 - acc: 0.5903 - val_loss: 1.2682 - val_acc: 0.5286\n",
            "Epoch 68/100\n",
            "505/504 [==============================] - 23s 46ms/step - loss: 1.1396 - acc: 0.5954 - val_loss: 1.3144 - val_acc: 0.5238\n",
            "Epoch 69/100\n",
            "505/504 [==============================] - 23s 46ms/step - loss: 1.1372 - acc: 0.5933 - val_loss: 1.2957 - val_acc: 0.5302\n",
            "Epoch 70/100\n",
            "505/504 [==============================] - 23s 46ms/step - loss: 1.1271 - acc: 0.5993 - val_loss: 1.3104 - val_acc: 0.5208\n",
            "Epoch 71/100\n",
            "505/504 [==============================] - 23s 46ms/step - loss: 1.1262 - acc: 0.5990 - val_loss: 1.2265 - val_acc: 0.5542\n",
            "Epoch 72/100\n",
            "505/504 [==============================] - 23s 46ms/step - loss: 1.1251 - acc: 0.5985 - val_loss: 1.2741 - val_acc: 0.5272\n",
            "Epoch 73/100\n",
            "505/504 [==============================] - 23s 46ms/step - loss: 1.1322 - acc: 0.5980 - val_loss: 1.2947 - val_acc: 0.5152\n",
            "Epoch 74/100\n",
            "505/504 [==============================] - 24s 47ms/step - loss: 1.1298 - acc: 0.5977 - val_loss: 1.3031 - val_acc: 0.5096\n",
            "Epoch 75/100\n",
            "505/504 [==============================] - 23s 46ms/step - loss: 1.1155 - acc: 0.6015 - val_loss: 1.1790 - val_acc: 0.5620\n",
            "Epoch 76/100\n",
            "505/504 [==============================] - 24s 47ms/step - loss: 1.1222 - acc: 0.6016 - val_loss: 1.2405 - val_acc: 0.5469\n",
            "Epoch 77/100\n",
            "505/504 [==============================] - 24s 47ms/step - loss: 1.1158 - acc: 0.6073 - val_loss: 1.2617 - val_acc: 0.5291\n",
            "Epoch 78/100\n",
            "505/504 [==============================] - 24s 47ms/step - loss: 1.1121 - acc: 0.6046 - val_loss: 1.3053 - val_acc: 0.5216\n",
            "Epoch 79/100\n",
            "505/504 [==============================] - 23s 46ms/step - loss: 1.1084 - acc: 0.6085 - val_loss: 1.1937 - val_acc: 0.5779\n",
            "Epoch 80/100\n",
            "505/504 [==============================] - 23s 46ms/step - loss: 1.1110 - acc: 0.6067 - val_loss: 1.2328 - val_acc: 0.5528\n",
            "Epoch 81/100\n",
            "505/504 [==============================] - 23s 46ms/step - loss: 1.1062 - acc: 0.6095 - val_loss: 1.2839 - val_acc: 0.5272\n",
            "Epoch 82/100\n",
            "505/504 [==============================] - 23s 46ms/step - loss: 1.1130 - acc: 0.6051 - val_loss: 1.2510 - val_acc: 0.5436\n",
            "Epoch 83/100\n",
            "505/504 [==============================] - 23s 46ms/step - loss: 1.0983 - acc: 0.6112 - val_loss: 1.2087 - val_acc: 0.5450\n",
            "Epoch 84/100\n",
            "505/504 [==============================] - 23s 46ms/step - loss: 1.0978 - acc: 0.6089 - val_loss: 1.2333 - val_acc: 0.5475\n",
            "Epoch 85/100\n",
            "505/504 [==============================] - 23s 46ms/step - loss: 1.1032 - acc: 0.6092 - val_loss: 1.2300 - val_acc: 0.5436\n",
            "Epoch 86/100\n",
            "505/504 [==============================] - 23s 46ms/step - loss: 1.0886 - acc: 0.6137 - val_loss: 1.2412 - val_acc: 0.5366\n",
            "Epoch 87/100\n",
            "505/504 [==============================] - 23s 46ms/step - loss: 1.0939 - acc: 0.6125 - val_loss: 1.2442 - val_acc: 0.5520\n",
            "Epoch 88/100\n",
            "505/504 [==============================] - 23s 46ms/step - loss: 1.0985 - acc: 0.6108 - val_loss: 1.2608 - val_acc: 0.5428\n",
            "Epoch 89/100\n",
            "505/504 [==============================] - 23s 46ms/step - loss: 1.0942 - acc: 0.6120 - val_loss: 1.2246 - val_acc: 0.5458\n",
            "Epoch 90/100\n",
            "505/504 [==============================] - 23s 46ms/step - loss: 1.0935 - acc: 0.6128 - val_loss: 1.1720 - val_acc: 0.5717\n",
            "Epoch 91/100\n",
            "505/504 [==============================] - 23s 46ms/step - loss: 1.0877 - acc: 0.6127 - val_loss: 1.2224 - val_acc: 0.5467\n",
            "Epoch 92/100\n",
            "505/504 [==============================] - 23s 46ms/step - loss: 1.0900 - acc: 0.6140 - val_loss: 1.2114 - val_acc: 0.5520\n",
            "Epoch 93/100\n",
            "505/504 [==============================] - 23s 46ms/step - loss: 1.0902 - acc: 0.6155 - val_loss: 1.2249 - val_acc: 0.5453\n",
            "Epoch 94/100\n",
            "505/504 [==============================] - 23s 46ms/step - loss: 1.0816 - acc: 0.6170 - val_loss: 1.1932 - val_acc: 0.5592\n",
            "Epoch 95/100\n",
            "505/504 [==============================] - 23s 46ms/step - loss: 1.0892 - acc: 0.6130 - val_loss: 1.1472 - val_acc: 0.5848\n",
            "Epoch 96/100\n",
            "505/504 [==============================] - 23s 46ms/step - loss: 1.0850 - acc: 0.6213 - val_loss: 1.1690 - val_acc: 0.5751\n",
            "Epoch 97/100\n",
            "505/504 [==============================] - 23s 46ms/step - loss: 1.0853 - acc: 0.6191 - val_loss: 1.2097 - val_acc: 0.5492\n",
            "Epoch 98/100\n",
            "505/504 [==============================] - 23s 46ms/step - loss: 1.0763 - acc: 0.6206 - val_loss: 1.2118 - val_acc: 0.5481\n",
            "Epoch 99/100\n",
            "505/504 [==============================] - 23s 46ms/step - loss: 1.0775 - acc: 0.6180 - val_loss: 1.2230 - val_acc: 0.5525\n",
            "Epoch 100/100\n",
            "505/504 [==============================] - 23s 46ms/step - loss: 1.0798 - acc: 0.6203 - val_loss: 1.2405 - val_acc: 0.5467\n"
          ],
          "name": "stdout"
        },
        {
          "output_type": "execute_result",
          "data": {
            "text/plain": [
              "<keras.callbacks.History at 0x7f391aa76048>"
            ]
          },
          "metadata": {
            "tags": []
          },
          "execution_count": 12
        }
      ]
    },
    {
      "cell_type": "code",
      "metadata": {
        "id": "vfkHsAvkpmhb",
        "colab_type": "code",
        "outputId": "177e5b9c-b37b-4e30-8833-4c45349d8fdb",
        "colab": {
          "base_uri": "https://localhost:8080/",
          "height": 34
        }
      },
      "source": [
        "import numpy as np\n",
        "predicted_test_labels = np.argmax(model.predict(test_data), axis=1)\n",
        "test_labels = np.argmax(test_labels, axis=1)\n",
        "print (\"Accuracy score = \", accuracy_score(test_labels, predicted_test_labels))"
      ],
      "execution_count": 0,
      "outputs": [
        {
          "output_type": "stream",
          "text": [
            "Accuracy score =  0.5466703817219282\n"
          ],
          "name": "stdout"
        }
      ]
    },
    {
      "cell_type": "code",
      "metadata": {
        "id": "Om9O8kVFp5Wh",
        "colab_type": "code",
        "outputId": "12e15438-2787-4313-abe5-9b193d445f4c",
        "colab": {
          "base_uri": "https://localhost:8080/",
          "height": 34
        }
      },
      "source": [
        "from keras.models import model_from_json\n",
        "model_json = model.to_json()\n",
        "with open(\"/content/gdrive/My Drive/Colab Notebooks/m4.json\", \"w\") as json_file:\n",
        "    json_file.write(model_json)\n",
        "# serialize weights to HDF5\n",
        "model.save_weights(\"/content/gdrive/My Drive/Colab Notebooks/m4.h5\")\n",
        "print(\"Saved model to disk\")"
      ],
      "execution_count": 0,
      "outputs": [
        {
          "output_type": "stream",
          "text": [
            "Saved model to disk\n"
          ],
          "name": "stdout"
        }
      ]
    },
    {
      "cell_type": "code",
      "metadata": {
        "id": "TRn3gHkzqK_u",
        "colab_type": "code",
        "outputId": "fc03a090-6bc1-47ca-d03e-d63b0195d4c7",
        "colab": {
          "base_uri": "https://localhost:8080/",
          "height": 313
        }
      },
      "source": [
        "from google.colab import files\n",
        "files.download(\"m4.h5\")\n",
        "files.download(\"m4.json\")"
      ],
      "execution_count": 0,
      "outputs": [
        {
          "output_type": "error",
          "ename": "FileNotFoundError",
          "evalue": "ignored",
          "traceback": [
            "\u001b[0;31m---------------------------------------------------------------------------\u001b[0m",
            "\u001b[0;31mFileNotFoundError\u001b[0m                         Traceback (most recent call last)",
            "\u001b[0;32m<ipython-input-15-de76d4338de8>\u001b[0m in \u001b[0;36m<module>\u001b[0;34m()\u001b[0m\n\u001b[1;32m      1\u001b[0m \u001b[0;32mfrom\u001b[0m \u001b[0mgoogle\u001b[0m\u001b[0;34m.\u001b[0m\u001b[0mcolab\u001b[0m \u001b[0;32mimport\u001b[0m \u001b[0mfiles\u001b[0m\u001b[0;34m\u001b[0m\u001b[0;34m\u001b[0m\u001b[0m\n\u001b[0;32m----> 2\u001b[0;31m \u001b[0mfiles\u001b[0m\u001b[0;34m.\u001b[0m\u001b[0mdownload\u001b[0m\u001b[0;34m(\u001b[0m\u001b[0;34m\"m4.h5\"\u001b[0m\u001b[0;34m)\u001b[0m\u001b[0;34m\u001b[0m\u001b[0;34m\u001b[0m\u001b[0m\n\u001b[0m\u001b[1;32m      3\u001b[0m \u001b[0mfiles\u001b[0m\u001b[0;34m.\u001b[0m\u001b[0mdownload\u001b[0m\u001b[0;34m(\u001b[0m\u001b[0;34m\"m4.json\"\u001b[0m\u001b[0;34m)\u001b[0m\u001b[0;34m\u001b[0m\u001b[0;34m\u001b[0m\u001b[0m\n",
            "\u001b[0;32m/usr/local/lib/python3.6/dist-packages/google/colab/files.py\u001b[0m in \u001b[0;36mdownload\u001b[0;34m(filename)\u001b[0m\n\u001b[1;32m    142\u001b[0m       \u001b[0;32mraise\u001b[0m \u001b[0mOSError\u001b[0m\u001b[0;34m(\u001b[0m\u001b[0mmsg\u001b[0m\u001b[0;34m)\u001b[0m\u001b[0;34m\u001b[0m\u001b[0;34m\u001b[0m\u001b[0m\n\u001b[1;32m    143\u001b[0m     \u001b[0;32melse\u001b[0m\u001b[0;34m:\u001b[0m\u001b[0;34m\u001b[0m\u001b[0;34m\u001b[0m\u001b[0m\n\u001b[0;32m--> 144\u001b[0;31m       \u001b[0;32mraise\u001b[0m \u001b[0mFileNotFoundError\u001b[0m\u001b[0;34m(\u001b[0m\u001b[0mmsg\u001b[0m\u001b[0;34m)\u001b[0m  \u001b[0;31m# pylint: disable=undefined-variable\u001b[0m\u001b[0;34m\u001b[0m\u001b[0;34m\u001b[0m\u001b[0m\n\u001b[0m\u001b[1;32m    145\u001b[0m \u001b[0;34m\u001b[0m\u001b[0m\n\u001b[1;32m    146\u001b[0m   \u001b[0mstarted\u001b[0m \u001b[0;34m=\u001b[0m \u001b[0m_threading\u001b[0m\u001b[0;34m.\u001b[0m\u001b[0mEvent\u001b[0m\u001b[0;34m(\u001b[0m\u001b[0;34m)\u001b[0m\u001b[0;34m\u001b[0m\u001b[0;34m\u001b[0m\u001b[0m\n",
            "\u001b[0;31mFileNotFoundError\u001b[0m: Cannot find file: m4.h5"
          ]
        }
      ]
    },
    {
      "cell_type": "code",
      "metadata": {
        "id": "RjnNr8QaqYnl",
        "colab_type": "code",
        "outputId": "66f5a602-f382-47c2-8d0c-7dae35969b25",
        "colab": {
          "base_uri": "https://localhost:8080/",
          "height": 493
        }
      },
      "source": [
        "import matplotlib.pyplot as plt\n",
        "\n",
        "plt.figure(figsize=(13,7))\n",
        "plt.subplot(1, 2, 1)\n",
        "plt.suptitle('Optimizer : Adam', fontsize=10)\n",
        "plt.ylabel('Loss', fontsize=16)\n",
        "plt.xlabel('epoch')\n",
        "plt.plot(model.history.history['loss'], label='Training Loss')\n",
        "plt.plot(model.history.history['val_loss'], label='Validation Loss')\n",
        "plt.legend(loc='upper right')\n",
        "\n",
        "plt.subplot(1, 2, 2)\n",
        "plt.ylabel('Accuracy', fontsize=16)\n",
        "plt.xlabel('epoch')\n",
        "plt.plot(model.history.history['acc'], label='Training Accuracy')\n",
        "plt.plot(model.history.history['val_acc'], label='Validation Accuracy')\n",
        "plt.legend(loc='lower right')\n",
        "plt.show()"
      ],
      "execution_count": 0,
      "outputs": [
        {
          "output_type": "display_data",
          "data": {
            "image/png": "[encoded data removed]",
            "text/plain": [
              "<Figure size 936x504 with 2 Axes>"
            ]
          },
          "metadata": {
            "tags": []
          }
        }
      ]
    }
  ]
}